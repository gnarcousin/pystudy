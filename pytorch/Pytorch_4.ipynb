##카이스트 실습

{
  "nbformat": 4,
  "nbformat_minor": 0,
  "metadata": {
    "colab": {
      "provenance": [],
      "gpuType": "T4"
    },
    "kernelspec": {
      "name": "python3",
      "display_name": "Python 3"
    },
    "language_info": {
      "name": "python"
    },
    "accelerator": "GPU"
  },
  "cells": [
    {
      "cell_type": "code",
      "execution_count": 1,
      "metadata": {
        "id": "99D0QwxuvyAi"
      },
      "outputs": [],
      "source": [
        "#Data Generate\n",
        "X = list(range(10))\n",
        "Y = [ 1, 1, 2, 4, 5, 7, 8, 9, 9, 10]"
      ]
    },
    {
      "cell_type": "code",
      "source": [
        "import matplotlib.pyplot as plt"
      ],
      "metadata": {
        "id": "Ob1RAj7Ix-V3"
      },
      "execution_count": 2,
      "outputs": []
    },
    {
      "cell_type": "code",
      "source": [
        "plt.plot(X, Y)\n",
        "plt.scatter(X, Y)"
      ],
      "metadata": {
        "colab": {
          "base_uri": "https://localhost:8080/",
          "height": 448
        },
        "id": "dUDNWaBSx_gz",
        "outputId": "a4361a5a-5966-457f-91a7-4ad4046af08d"
      },
      "execution_count": 3,
      "outputs": [
        {
          "output_type": "execute_result",
          "data": {
            "text/plain": [
              "<matplotlib.collections.PathCollection at 0x7ec14dc4eb30>"
            ]
          },
          "metadata": {},
          "execution_count": 3
        },
        {
          "output_type": "display_data",
          "data": {
            "text/plain": [
              "<Figure size 640x480 with 1 Axes>"
            ],
            "image/png": "[encoded data removed]"
          },
          "metadata": {}
        }
      ]
    },
    {
      "cell_type": "code",
      "source": [
        "# hyposis\n",
        "\n",
        "class H():\n",
        "\n",
        "  def __init__(self, w):\n",
        "    self.w = w\n",
        "\n",
        "  def forward(self, x):\n",
        "    return self.w * x\n",
        "\n",
        "def cost(h, X, Y):\n",
        "  error = 0\n",
        "  for i in range(len(X)):\n",
        "    error += h.forward(X[i] - Y[i]) ** 2\n",
        "  error /= len(X)\n",
        "  return error\n",
        "\n",
        "h = H(4)\n",
        "\n",
        "cost(h, X, Y)"
      ],
      "metadata": {
        "colab": {
          "base_uri": "https://localhost:8080/"
        },
        "id": "iU0kPQ9d1iT4",
        "outputId": "60b444da-19ca-4137-f82d-962ec2125703"
      },
      "execution_count": 4,
      "outputs": [
        {
          "output_type": "execute_result",
          "data": {
            "text/plain": [
              "27.2"
            ]
          },
          "metadata": {},
          "execution_count": 4
        }
      ]
    },
    {
      "cell_type": "code",
      "source": [
        "list_w = []\n",
        "list_c = []\n",
        "\n",
        "for i in range(-100,100):\n",
        "    w = i * 0.1\n",
        "    h = H(w)\n",
        "    c = cost(h, X, Y)\n",
        "    list_w.append(w)\n",
        "    list_c.append(c)\n",
        "\n",
        "plt.figure(figsize= (1, 1))\n",
        "plt.xlabel('w')\n",
        "plt.ylabel('cost')\n",
        "plt.scatter(list_w, list_c, s= 0.1)\n",
        "plt.show()"
      ],
      "metadata": {
        "colab": {
          "base_uri": "https://localhost:8080/",
          "height": 157
        },
        "id": "L8htQX5y25No",
        "outputId": "f31676ae-93f5-49d0-89d6-e1283789a4b6"
      },
      "execution_count": 5,
      "outputs": [
        {
          "output_type": "display_data",
          "data": {
            "text/plain": [
              "<Figure size 100x100 with 1 Axes>"
            ],
            "image/png": "[encoded data removed]"
          },
          "metadata": {}
        }
      ]
    },
    {
      "cell_type": "code",
      "source": [
        "def cal_grad(w, cost):\n",
        "  h = H(w)\n",
        "  cost1 = cost(h, X, Y)\n",
        "  eps = 0.00001\n",
        "  h = H(w + eps)\n",
        "  cost2 = cost(h, X, Y)\n",
        "  dcost = cost2 - cost1\n",
        "  dw = eps\n",
        "  grad = dcost / dw\n",
        "  return grad, (cost1 + cost2) * 0.5\n",
        "\n",
        "def cal_grad2(w, cost):\n",
        "  h = H(w)\n",
        "  grad = 0\n",
        "  for i in range(len(X)):\n",
        "   grad += (h.forward(X[i]) - Y[i]) * X[i]\n",
        "  grad = grad / len(X)\n",
        "  c = cost(h, X, Y)\n",
        "  return grad, c\n",
        "\n",
        "\n",
        "w1 = 4\n",
        "w2 = 4\n",
        "lr = 0.01\n",
        "\n",
        "list_w1 = []\n",
        "list_w2 = []\n",
        "list_c1 = []\n",
        "list_c2 = []\n",
        "\n",
        "for i in range(100):\n",
        "  grad, mean_cost = cal_grad(w1, cost)\n",
        "  grad2, mean_cost2 = cal_grad2(w2, cost)\n",
        "\n",
        "  w1 -= lr * grad\n",
        "  w2 -= lr * grad2\n",
        "  list_w1.append(w1)\n",
        "  list_w2.append(w2)\n",
        "  list_c1.append(mean_cost)\n",
        "  list_c2.append(mean_cost2)\n",
        "  #print(w1, mean_cost, w2, mean_cost2)\n",
        "\n",
        "plt.scatter(list_w1, list_c1)\n",
        "plt.scatter(list_w2, list_c2)"
      ],
      "metadata": {
        "colab": {
          "base_uri": "https://localhost:8080/",
          "height": 448
        },
        "id": "xVD_TNSi_cmz",
        "outputId": "10a7f5f1-fddd-4327-cf97-211b51161cb5"
      },
      "execution_count": 15,
      "outputs": [
        {
          "output_type": "execute_result",
          "data": {
            "text/plain": [
              "<matplotlib.collections.PathCollection at 0x7ec11933c670>"
            ]
          },
          "metadata": {},
          "execution_count": 15
        },
        {
          "output_type": "display_data",
          "data": {
            "text/plain": [
              "<Figure size 640x480 with 1 Axes>"
            ],
            "image/png": "[encoded data removed]"
          },
          "metadata": {}
        }
      ]
    },
    {
      "cell_type": "code",
      "source": [],
      "metadata": {
        "id": "DUyuWociLYoJ"
      },
      "execution_count": 6,
      "outputs": []
    }
  ]
}
